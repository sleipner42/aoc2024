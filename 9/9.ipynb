{
 "cells": [
  {
   "cell_type": "code",
   "execution_count": 1,
   "metadata": {},
   "outputs": [],
   "source": [
    "import math\n",
    "from collections import defaultdict"
   ]
  },
  {
   "cell_type": "code",
   "execution_count": 2,
   "metadata": {},
   "outputs": [],
   "source": [
    "with open(\"input.txt\", \"r\") as f:\n",
    "    lines = f.read()"
   ]
  },
  {
   "cell_type": "code",
   "execution_count": 3,
   "metadata": {},
   "outputs": [
    {
     "data": {
      "text/plain": [
       "'0348039436'"
      ]
     },
     "execution_count": 3,
     "metadata": {},
     "output_type": "execute_result"
    }
   ],
   "source": [
    "lines[-10:]"
   ]
  },
  {
   "cell_type": "code",
   "execution_count": 4,
   "metadata": {},
   "outputs": [
    {
     "data": {
      "text/plain": [
       "6340197768906"
      ]
     },
     "execution_count": 4,
     "metadata": {},
     "output_type": "execute_result"
    }
   ],
   "source": [
    "parsed_file = []\n",
    "\n",
    "\n",
    "for n, i in enumerate(lines):\n",
    "    \n",
    "    if n % 2 == 0:\n",
    "        parsed_file.extend([str(n//2)] * int(i))\n",
    "    else:\n",
    "        parsed_file.extend([\".\"] * int(i))\n",
    "\n",
    "\n",
    "compressed_file = []\n",
    "parsed_array = list(parsed_file)\n",
    "\n",
    "n = 0\n",
    "while n < len(parsed_file):\n",
    "\n",
    "    if parsed_file[n] == \".\":\n",
    "\n",
    "        while (l := parsed_file.pop(-1)) == \".\":\n",
    "            pass\n",
    "\n",
    "        compressed_file.append(l)\n",
    "\n",
    "    else:\n",
    "        compressed_file.append(parsed_file[n])\n",
    "\n",
    "    n += 1\n",
    "\n",
    "\n",
    "tot = 0\n",
    "for i, n in enumerate(compressed_file):\n",
    "    tot += int(i) * int(n)\n",
    "\n",
    "tot"
   ]
  },
  {
   "cell_type": "code",
   "execution_count": 5,
   "metadata": {},
   "outputs": [],
   "source": [
    "class empty_space:\n",
    "    size = 0\n",
    "    def __init__(self, size):\n",
    "        self.size = size\n",
    "\n",
    "    def __repr__(self):\n",
    "        return \".\" * self.size\n",
    "\n",
    "class file:\n",
    "    size = 0\n",
    "    value = 0\n",
    "\n",
    "    def __init__(self, size, value):\n",
    "        self.size = size\n",
    "        self.value = value\n",
    "\n",
    "    def __repr__(self):\n",
    "        return f\"{self.value}\" * self.size\n",
    "\n",
    "parsed_files = []\n",
    "\n",
    "for n, i in enumerate(lines):\n",
    "    \n",
    "    if i != \"0\":\n",
    "        if n % 2 == 0:\n",
    "            parsed_files.append(file(int(i), str(n//2)))\n",
    "        else:\n",
    "            parsed_files.append(empty_space(int(i)))\n",
    "\n",
    "queue = [f for f in parsed_files if isinstance(f, file)]\n",
    "\n",
    "while len(queue) > 0:\n",
    "    \n",
    "    current_file = queue.pop(-1)\n",
    "    current_file_idx = parsed_files.index(current_file)\n",
    "\n",
    "    for n, space in enumerate(parsed_files[:current_file_idx]):\n",
    "        \n",
    "        if isinstance(space, empty_space) and space.size == current_file.size:\n",
    "\n",
    "            parsed_files[current_file_idx] = empty_space(current_file.size)\n",
    "            parsed_files[n] = current_file\n",
    "            break\n",
    "\n",
    "        if isinstance(space, empty_space) and space.size > current_file.size:\n",
    "            parsed_files[current_file_idx] = empty_space(current_file.size)\n",
    "            \n",
    "            remaining_space = empty_space(space.size - current_file.size)\n",
    "            parsed_files.insert(n + 1, remaining_space)\n",
    "\n",
    "\n",
    "            parsed_files[n] = current_file\n",
    "\n",
    "            break"
   ]
  },
  {
   "cell_type": "code",
   "execution_count": 6,
   "metadata": {},
   "outputs": [
    {
     "data": {
      "text/plain": [
       "6363913128533"
      ]
     },
     "execution_count": 6,
     "metadata": {},
     "output_type": "execute_result"
    }
   ],
   "source": [
    "c = 0\n",
    "tot = 0\n",
    "\n",
    "for f in parsed_files:\n",
    "    for i in range(f.size):\n",
    "        \n",
    "        tot += c * int(f.value) if isinstance(f, file) else 0\n",
    "        c += 1\n",
    "\n",
    "tot\n"
   ]
  }
 ],
 "metadata": {
  "kernelspec": {
   "display_name": "Python 3",
   "language": "python",
   "name": "python3"
  },
  "language_info": {
   "codemirror_mode": {
    "name": "ipython",
    "version": 3
   },
   "file_extension": ".py",
   "mimetype": "text/x-python",
   "name": "python",
   "nbconvert_exporter": "python",
   "pygments_lexer": "ipython3",
   "version": "3.10.13"
  }
 },
 "nbformat": 4,
 "nbformat_minor": 2
}
