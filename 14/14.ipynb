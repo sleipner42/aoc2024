{
 "cells": [
  {
   "cell_type": "code",
   "execution_count": 143,
   "metadata": {},
   "outputs": [
    {
     "name": "stdout",
     "output_type": "stream",
     "text": [
      "215476074\n"
     ]
    }
   ],
   "source": [
    "from dataclasses import dataclass\n",
    "import re\n",
    "from typing import Optional\n",
    "from tqdm import tqdm\n",
    "\n",
    "with open(\"input.txt\", \"r\") as f:\n",
    "    lines = f.read().split(\"\\n\")\n",
    "\n",
    "\n",
    "@dataclass\n",
    "class Robot:\n",
    "\n",
    "    MAX_X = 101\n",
    "    MAX_Y = 103\n",
    "\n",
    "    pos: tuple[int, int]\n",
    "    vel: tuple[int, int]\n",
    "\n",
    "    def update_pos(self):\n",
    "        self.pos = (\n",
    "            (self.pos[0] + self.vel[0]) % self.MAX_X,\n",
    "            (self.pos[1] + self.vel[1]) % self.MAX_Y,\n",
    "        )\n",
    "\n",
    "    def get_quadrant(self) -> Optional[int]:\n",
    "\n",
    "        if self.pos[0] == self.MAX_X // 2 or self.pos[1] == self.MAX_Y // 2:\n",
    "            return None\n",
    "\n",
    "        if self.pos[0] < self.MAX_X // 2 and self.pos[1] < self.MAX_Y // 2:\n",
    "            return 0\n",
    "        elif self.pos[0] < self.MAX_X // 2 and self.pos[1] > self.MAX_Y // 2:\n",
    "            return 1\n",
    "        elif self.pos[0] > self.MAX_X // 2 and self.pos[1] < self.MAX_Y // 2:\n",
    "            return 2\n",
    "        else:\n",
    "            return 3\n",
    "    \n",
    "\n",
    "def count_neigbouring_robots(robots: list[Robot]) -> int:\n",
    "\n",
    "    neightbour_cords = [(1, 0), (-1, 0), (0, 1), (0, -1)]\n",
    "    nr_of_neigbours = 0\n",
    "\n",
    "    all_robots_pos = set(robot.pos for robot in robots)\n",
    "\n",
    "    for robot in robots:\n",
    "        for dx, dy in neightbour_cords:\n",
    "            if (robot.pos[0] + dx, robot.pos[1] + dy) in all_robots_pos:\n",
    "                nr_of_neigbours += 1\n",
    "\n",
    "    return nr_of_neigbours\n",
    "    \n",
    "\n",
    "def print_grid(robots: list[Robot]):\n",
    "    robot_map = [[\" \" for _ in range(Robot.MAX_Y)] for _ in range(Robot.MAX_X)]\n",
    "\n",
    "    for robot in robots:\n",
    "        robot_map[robot.pos[0]][robot.pos[1]] = \"#\"\n",
    "\n",
    "\n",
    "    for line in robot_map:\n",
    "        print(\"\".join(line))\n",
    "\n",
    "robots = []\n",
    "\n",
    "for line in lines:\n",
    "    x, y, v1, v2 = re.findall(r\"-?\\d+\", line)\n",
    "    robots.append(Robot(pos=(int(x), int(y)), vel=(int(v1), int(v2))))\n",
    "\n",
    "\n",
    "for n in range(100):\n",
    "    for robot in robots:\n",
    "        robot.update_pos()\n",
    "\n",
    "\n",
    "quadrants = {}\n",
    "\n",
    "for robot in robots:\n",
    "    quadrant = robot.get_quadrant()\n",
    "    if quadrant is not None:\n",
    "        quadrants[quadrant] = quadrants.get(quadrant, 0) + 1\n",
    "\n",
    "total = 1\n",
    "\n",
    "for quadrant, count in quadrants.items():\n",
    "    total *= count\n",
    "\n",
    "print(total)\n"
   ]
  },
  {
   "cell_type": "code",
   "execution_count": 145,
   "metadata": {},
   "outputs": [
    {
     "name": "stderr",
     "output_type": "stream",
     "text": [
      "100%|██████████| 10000/10000 [00:03<00:00, 2753.86it/s]"
     ]
    },
    {
     "name": "stdout",
     "output_type": "stream",
     "text": [
      "6285\n"
     ]
    },
    {
     "name": "stderr",
     "output_type": "stream",
     "text": [
      "\n"
     ]
    }
   ],
   "source": [
    "robots = []\n",
    "\n",
    "entropy = []\n",
    "\n",
    "for line in lines:\n",
    "    x, y, v1, v2 = re.findall(r\"-?\\d+\", line)\n",
    "    robots.append(Robot(pos=(int(x), int(y)), vel=(int(v1), int(v2))))\n",
    "\n",
    "\n",
    "for n in tqdm(range(int(1e4))):\n",
    "    for robot in robots:\n",
    "        robot.update_pos()\n",
    "\n",
    "    entropy.append(count_neigbouring_robots(robots))\n",
    "\n",
    "\n",
    "max_entropy = max(entropy)\n",
    "idx_of_max_entropy = entropy.index(max_entropy)\n",
    "\n",
    "print(idx_of_max_entropy + 1)"
   ]
  }
 ],
 "metadata": {
  "kernelspec": {
   "display_name": "Python 3",
   "language": "python",
   "name": "python3"
  },
  "language_info": {
   "codemirror_mode": {
    "name": "ipython",
    "version": 3
   },
   "file_extension": ".py",
   "mimetype": "text/x-python",
   "name": "python",
   "nbconvert_exporter": "python",
   "pygments_lexer": "ipython3",
   "version": "3.10.13"
  }
 },
 "nbformat": 4,
 "nbformat_minor": 2
}
