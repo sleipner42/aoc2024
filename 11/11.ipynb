{
 "cells": [
  {
   "cell_type": "code",
   "execution_count": 26,
   "metadata": {},
   "outputs": [
    {
     "name": "stderr",
     "output_type": "stream",
     "text": [
      " 57%|█████▋    | 43/75 [05:06<16:16, 30.52s/it] "
     ]
    }
   ],
   "source": [
    "from tqdm import tqdm\n",
    "\n",
    "with open(\"input.txt\", \"r\") as f:\n",
    "    lines = f.read()\n",
    "\n",
    "\n",
    "stones = [int(x) for x in lines.split()]\n",
    "new_stones = []\n",
    "\n",
    "for blink in tqdm(range(75)):\n",
    "\n",
    "    for stone in stones:\n",
    "\n",
    "        if stone == 0:\n",
    "            new_stones.append(1)\n",
    "        \n",
    "        elif len(stone_str := str(stone)) % 2 == 0:\n",
    "\n",
    "            s1 = stone_str[:len(stone_str)//2]\n",
    "            s2 = stone_str[len(stone_str)//2:]\n",
    "\n",
    "            new_stones.append(int(s1))\n",
    "            new_stones.append(int(s2))\n",
    "\n",
    "        else:\n",
    "            new_stones.append(stone * 2024)\n",
    "\n",
    "    stones = new_stones\n",
    "    new_stones = []\n",
    "\n",
    "len(stones)"
   ]
  },
  {
   "cell_type": "code",
   "execution_count": 23,
   "metadata": {},
   "outputs": [
    {
     "data": {
      "text/plain": [
       "0"
      ]
     },
     "execution_count": 23,
     "metadata": {},
     "output_type": "execute_result"
    }
   ],
   "source": [
    "int(\"000\")"
   ]
  }
 ],
 "metadata": {
  "kernelspec": {
   "display_name": "Python 3",
   "language": "python",
   "name": "python3"
  },
  "language_info": {
   "codemirror_mode": {
    "name": "ipython",
    "version": 3
   },
   "file_extension": ".py",
   "mimetype": "text/x-python",
   "name": "python",
   "nbconvert_exporter": "python",
   "pygments_lexer": "ipython3",
   "version": "3.10.13"
  }
 },
 "nbformat": 4,
 "nbformat_minor": 2
}
