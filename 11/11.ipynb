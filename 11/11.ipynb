{
 "cells": [
  {
   "cell_type": "code",
   "execution_count": 11,
   "metadata": {},
   "outputs": [
    {
     "name": "stdout",
     "output_type": "stream",
     "text": [
      "194782\n",
      "233007586663131\n"
     ]
    }
   ],
   "source": [
    "from functools import cache\n",
    "\n",
    "with open(\"input.txt\", \"r\") as f:\n",
    "    lines = f.read()\n",
    "\n",
    "stones = [int(x) for x in lines.split()]\n",
    "\n",
    "@cache\n",
    "def length_per_stone(nr, times):\n",
    "\n",
    "    if times == 0:\n",
    "        return 1\n",
    "\n",
    "    stones = [nr]\n",
    "    new_stones = []\n",
    "\n",
    "    for stone in stones:\n",
    "\n",
    "        if stone == 0:\n",
    "            new_stones.append(1)\n",
    "        \n",
    "        elif len(stone_str := str(stone)) % 2 == 0:\n",
    "\n",
    "            s1 = stone_str[:len(stone_str)//2]\n",
    "            s2 = stone_str[len(stone_str)//2:]\n",
    "\n",
    "            new_stones.append(int(s1))\n",
    "            new_stones.append(int(s2))\n",
    "\n",
    "        else:\n",
    "            new_stones.append(stone * 2024)\n",
    "\n",
    "    stones = new_stones\n",
    "    new_stones = []\n",
    "    \n",
    "    return sum(length_per_stone(stone, times - 1) for stone in stones)\n",
    "\n",
    "print(sum(length_per_stone(stone, 25) for stone in stones))\n",
    "print(sum(length_per_stone(stone, 75) for stone in stones))"
   ]
  }
 ],
 "metadata": {
  "kernelspec": {
   "display_name": "Python 3",
   "language": "python",
   "name": "python3"
  },
  "language_info": {
   "codemirror_mode": {
    "name": "ipython",
    "version": 3
   },
   "file_extension": ".py",
   "mimetype": "text/x-python",
   "name": "python",
   "nbconvert_exporter": "python",
   "pygments_lexer": "ipython3",
   "version": "3.10.13"
  }
 },
 "nbformat": 4,
 "nbformat_minor": 2
}
