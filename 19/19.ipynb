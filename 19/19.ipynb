{
 "cells": [
  {
   "cell_type": "code",
   "execution_count": 28,
   "metadata": {},
   "outputs": [
    {
     "name": "stdout",
     "output_type": "stream",
     "text": [
      "302\n",
      "771745460576799\n"
     ]
    }
   ],
   "source": [
    "from functools import cache\n",
    "\n",
    "with open(\"input.txt\", \"r\") as f:\n",
    "    lines = f.read()\n",
    "\n",
    "patterns = lines.split(\"\\n\\n\")[0].split(\", \")\n",
    "designs = lines.split(\"\\n\\n\")[1].splitlines()\n",
    "\n",
    "@cache\n",
    "def is_design_possible(design: str):\n",
    "\n",
    "    if design == \"\":\n",
    "        return 1\n",
    "    \n",
    "    combs = 0\n",
    "\n",
    "    for pattern in patterns:\n",
    "        len_of_pattern = len(pattern)\n",
    "        if design[:len_of_pattern] == pattern:\n",
    "            combs += is_design_possible(design[len_of_pattern:])\n",
    "\n",
    "\n",
    "    return combs\n",
    "\n",
    "print(sum(is_design_possible(design) > 0 for design in designs))\n",
    "print(sum(is_design_possible(design) for design in designs))"
   ]
  }
 ],
 "metadata": {
  "kernelspec": {
   "display_name": "Python 3",
   "language": "python",
   "name": "python3"
  },
  "language_info": {
   "codemirror_mode": {
    "name": "ipython",
    "version": 3
   },
   "file_extension": ".py",
   "mimetype": "text/x-python",
   "name": "python",
   "nbconvert_exporter": "python",
   "pygments_lexer": "ipython3",
   "version": "3.12.5"
  }
 },
 "nbformat": 4,
 "nbformat_minor": 2
}
