{
 "cells": [
  {
   "cell_type": "code",
   "execution_count": 21,
   "metadata": {},
   "outputs": [],
   "source": [
    "import math\n",
    "from collections import defaultdict"
   ]
  },
  {
   "cell_type": "code",
   "execution_count": 26,
   "metadata": {},
   "outputs": [],
   "source": [
    "with open(\"input.txt\", \"r\") as f:\n",
    "    lines = f.read()\n",
    "\n",
    "\n",
    "class point:\n",
    "    x: int\n",
    "    y: int\n",
    "\n",
    "    def __init__(self, x: int, y: int):\n",
    "        self.x = x\n",
    "        self.y = y\n",
    "\n",
    "    def __add__(self, other: \"point\"):\n",
    "        return point(self.x + other.x, self.y + other.y)\n",
    "\n",
    "    def __sub__(self, other: \"point\"):\n",
    "        return point(self.x - other.x, self.y - other.y)\n",
    "\n",
    "    def __hash__(self):\n",
    "        return hash((self.x, self.y))\n",
    "\n",
    "    def __eq__(self, other: \"point\"):\n",
    "        return self.x == other.x and self.y == other.y\n",
    "\n",
    "    def __repr__(self):\n",
    "        return f\"({self.x}, {self.y})\"\n",
    "    \n",
    "    def length(self):\n",
    "        return math.sqrt(self.x**2 + self.y**2)\n",
    "\n",
    "    def normalize(self):\n",
    "        return point(self.x / math.gcd(self.x, self.y), self.y / math.gcd(self.x, self.y))\n",
    "    \n",
    "    def __mul__(self, other: int):\n",
    "        return point(self.x * other, self.y * other)\n",
    "    \n",
    "    def is_in_bounds(self, max_x, max_y):\n",
    "        return 0 <= self.x < max_x and 0 <= self.y < max_y"
   ]
  },
  {
   "cell_type": "code",
   "execution_count": 27,
   "metadata": {},
   "outputs": [],
   "source": [
    "freqs = defaultdict(set)\n",
    "max_y = len(lines.splitlines())\n",
    "max_x = len(lines.splitlines()[0])\n",
    "\n",
    "for y, line in enumerate(lines.split()):\n",
    "    for x, cell in enumerate(line):\n",
    "        if cell != \".\":\n",
    "            freqs[cell].add(point(x,y))"
   ]
  },
  {
   "cell_type": "code",
   "execution_count": 29,
   "metadata": {},
   "outputs": [
    {
     "name": "stdout",
     "output_type": "stream",
     "text": [
      "379\n",
      "1339\n"
     ]
    }
   ],
   "source": [
    "freqs = defaultdict(set)\n",
    "max_y = len(lines.splitlines())\n",
    "max_x = len(lines.splitlines()[0])\n",
    "\n",
    "for y, line in enumerate(lines.split()):\n",
    "    for x, cell in enumerate(line):\n",
    "        if cell != \".\":\n",
    "            freqs[cell].add(point(x,y))\n",
    "\n",
    "def get_inferance_points(p1: point, p2: point):\n",
    "\n",
    "    dir = (p2 - p1).normalize()\n",
    "\n",
    "    inferance_points_for_p1 = set()\n",
    "    inferance_points_for_p2 = set()\n",
    "\n",
    "    for a in range(-100, 100):\n",
    "\n",
    "        new_point = dir * a + p1\n",
    "        distance_from_p1 = (new_point - p1).length()\n",
    "        distance_from_p2 = (new_point - p2).length()\n",
    "\n",
    "        if new_point.is_in_bounds(max_x, max_y):\n",
    "\n",
    "            inferance_points_for_p2.add(new_point)\n",
    "            if distance_from_p1 == 2 * distance_from_p2 or distance_from_p1 * 2 == distance_from_p2:\n",
    "                inferance_points_for_p1.add(new_point)\n",
    "\n",
    "    return inferance_points_for_p1, inferance_points_for_p2\n",
    "\n",
    "\n",
    "all_inferance_points = set()\n",
    "all_inferance_points_2 = set()\n",
    "\n",
    "for points in freqs.values():\n",
    "\n",
    "    for p1 in points:\n",
    "        for p2 in points:\n",
    "            if p1 == p2:\n",
    "                continue\n",
    "            inferance_points_for_p1, inferance_points_for_p2 = get_inferance_points(p1, p2)\n",
    "            all_inferance_points.update(inferance_points_for_p1)\n",
    "            all_inferance_points_2.update(inferance_points_for_p2)\n",
    "\n",
    "print(len(all_inferance_points))\n",
    "print(len(all_inferance_points_2))\n"
   ]
  }
 ],
 "metadata": {
  "kernelspec": {
   "display_name": "Python 3",
   "language": "python",
   "name": "python3"
  },
  "language_info": {
   "codemirror_mode": {
    "name": "ipython",
    "version": 3
   },
   "file_extension": ".py",
   "mimetype": "text/x-python",
   "name": "python",
   "nbconvert_exporter": "python",
   "pygments_lexer": "ipython3",
   "version": "3.12.5"
  }
 },
 "nbformat": 4,
 "nbformat_minor": 2
}
