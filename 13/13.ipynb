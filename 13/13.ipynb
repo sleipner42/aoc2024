{
 "cells": [
  {
   "cell_type": "code",
   "execution_count": 47,
   "metadata": {},
   "outputs": [],
   "source": [
    "import re\n",
    "\n",
    "with open(\"input.txt\", \"r\") as f:\n",
    "    lines = f.read().split(\"\\n\\n\")\n"
   ]
  },
  {
   "cell_type": "code",
   "execution_count": 100,
   "metadata": {},
   "outputs": [
    {
     "name": "stdout",
     "output_type": "stream",
     "text": [
      "32041\n",
      "95843948914827\n"
     ]
    }
   ],
   "source": [
    "def get(y):\n",
    "    tot = 0\n",
    "\n",
    "    for line in lines:\n",
    "\n",
    "        nr = tuple(map(int, re.findall(r\"(\\d+)\", line)))\n",
    "\n",
    "        a = (nr[0], nr[1])\n",
    "        b = (nr[2], nr[3])\n",
    "        prize = (nr[4] + y, nr[5] + y)\n",
    "\n",
    "        nb = (prize[1] - a[1] * prize[0] / a[0]) / (b[1] - a[1] * b[0] / a[0])\n",
    "        na = (prize[0] - b[0] * nb) / a[0]\n",
    "\n",
    "        nb = round(nb)\n",
    "        na = round(na)\n",
    "\n",
    "        if (\n",
    "            int(na * a[0] + nb * b[0]) == prize[0]\n",
    "            and int(na * a[1] + nb * b[1]) == prize[1]\n",
    "        ):\n",
    "\n",
    "            tot += na * 3 + nb\n",
    "\n",
    "    return tot\n",
    "\n",
    "\n",
    "print(get(0))\n",
    "print(get(10000000000000))"
   ]
  }
 ],
 "metadata": {
  "kernelspec": {
   "display_name": "Python 3",
   "language": "python",
   "name": "python3"
  },
  "language_info": {
   "codemirror_mode": {
    "name": "ipython",
    "version": 3
   },
   "file_extension": ".py",
   "mimetype": "text/x-python",
   "name": "python",
   "nbconvert_exporter": "python",
   "pygments_lexer": "ipython3",
   "version": "3.10.13"
  }
 },
 "nbformat": 4,
 "nbformat_minor": 2
}
