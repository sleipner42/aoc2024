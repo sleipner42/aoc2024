{
 "cells": [
  {
   "cell_type": "code",
   "execution_count": 20,
   "metadata": {},
   "outputs": [
    {
     "name": "stdout",
     "output_type": "stream",
     "text": [
      "2264607\n",
      "19457120\n"
     ]
    }
   ],
   "source": [
    "\n",
    "with open(\"input.txt\", \"r\") as f:\n",
    "    lines = f.read().splitlines()\n",
    "\n",
    "l1, l2 = [], []\n",
    "for line in lines:\n",
    "    l1.append(int(line.split(\" \")[0]))\n",
    "    l2.append(int(line.split(\" \")[-1]))\n",
    "\n",
    "l1 = sorted(l1)\n",
    "l2 = sorted(l2)\n",
    "\n",
    "diff = 0\n",
    "\n",
    "for i in range(len(l1)):\n",
    "    diff += abs(l2[i] - l1[i])\n",
    "\n",
    "print(diff)\n",
    "\n",
    "tot = 0\n",
    "\n",
    "for i in l1:\n",
    "\n",
    "    nr_of_occurances = len([x for x in l2 if x == i])\n",
    "    tot += nr_of_occurances * i\n",
    "\n",
    "print(tot)"
   ]
  },
  {
   "cell_type": "code",
   "execution_count": 18,
   "metadata": {},
   "outputs": [
    {
     "name": "stdout",
     "output_type": "stream",
     "text": [
      "19457120\n"
     ]
    }
   ],
   "source": [
    "\n"
   ]
  }
 ],
 "metadata": {
  "kernelspec": {
   "display_name": "Python 3",
   "language": "python",
   "name": "python3"
  },
  "language_info": {
   "codemirror_mode": {
    "name": "ipython",
    "version": 3
   },
   "file_extension": ".py",
   "mimetype": "text/x-python",
   "name": "python",
   "nbconvert_exporter": "python",
   "pygments_lexer": "ipython3",
   "version": "3.10.13"
  }
 },
 "nbformat": 4,
 "nbformat_minor": 2
}
