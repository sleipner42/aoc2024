{
 "cells": [
  {
   "cell_type": "code",
   "execution_count": 93,
   "metadata": {},
   "outputs": [],
   "source": [
    "import itertools\n",
    "from collections import defaultdict\n",
    "import networkx as nx"
   ]
  },
  {
   "cell_type": "code",
   "execution_count": 117,
   "metadata": {},
   "outputs": [
    {
     "name": "stdout",
     "output_type": "stream",
     "text": [
      "222\n",
      "{'x00': 1, 'x01': 0, 'x02': 0, 'x03': 1, 'x04': 1, 'x05': 1, 'x06': 0, 'x07': 0, 'x08': 0, 'x09': 1, 'x10': 0, 'x11': 0, 'x12': 0, 'x13': 1, 'x14': 1, 'x15': 1, 'x16': 0, 'x17': 0, 'x18': 0, 'x19': 1, 'x20': 0, 'x21': 1, 'x22': 0, 'x23': 1, 'x24': 1, 'x25': 0, 'x26': 1, 'x27': 1, 'x28': 1, 'x29': 0, 'x30': 0, 'x31': 0, 'x32': 0, 'x33': 0, 'x34': 0, 'x35': 1, 'x36': 0, 'x37': 1, 'x38': 1, 'x39': 0, 'x40': 1, 'x41': 0, 'x42': 0, 'x43': 0, 'x44': 1, 'y00': 1, 'y01': 1, 'y02': 1, 'y03': 1, 'y04': 0, 'y05': 1, 'y06': 0, 'y07': 1, 'y08': 0, 'y09': 1, 'y10': 1, 'y11': 1, 'y12': 1, 'y13': 0, 'y14': 1, 'y15': 0, 'y16': 0, 'y17': 0, 'y18': 1, 'y19': 1, 'y20': 0, 'y21': 0, 'y22': 1, 'y23': 0, 'y24': 0, 'y25': 1, 'y26': 0, 'y27': 1, 'y28': 0, 'y29': 0, 'y30': 0, 'y31': 1, 'y32': 1, 'y33': 1, 'y34': 1, 'y35': 0, 'y36': 1, 'y37': 1, 'y38': 1, 'y39': 1, 'y40': 0, 'y41': 1, 'y42': 0, 'y43': 1, 'y44': 1, 'jdk': 1, 'pvm': 0, 'kdm': 0, 'hqh': 0, 'wjf': 1, 'mds': 0, 'bwc': 1, 'tgb': 0, 'cjg': 0, 'ppw': 0, 'qvh': 1, 'cwr': 1, 'vng': 0, 'nsg': 1, 'bfw': 0, 'nmk': 1, 'sms': 0, 'cnv': 1, 'cwn': 1, 'qjf': 0, 'ppp': 1, 'btb': 0, 'cbq': 0, 'cgr': 0, 'rmn': 0, 'ddt': 0, 'wtc': 0, 'gwt': 0, 'rtw': 1, 'qkk': 0, 'cpg': 1, 'ngc': 1, 'mdv': 0, 'cqd': 1, 'ftt': 1, 'rwr': 1, 'tvs': 1, 'kbv': 0, 'fvp': 0, 'dgj': 0, 'bss': 1, 'jmp': 0, 'qnp': 1, 'gtg': 1, 'scb': 1, 'qds': 1, 'krm': 1, 'gqt': 0, 'cnp': 0, 'cmd': 1, 'hbn': 0, 'jpp': 0, 'qjh': 0, 'dsr': 1, 'qsd': 0, 'kwf': 0, 'sdr': 1, 'nnf': 1, 'pjj': 0, 'wnq': 1, 'dnw': 0, 'snj': 1, 'nhq': 0, 'nhh': 0, 'hsc': 0, 'tbp': 0, 'bvn': 0, 'tcb': 0, 'mhm': 0, 'bmh': 1, 'vnh': 0, 'rqv': 1, 'ssq': 1, 'rpm': 0, 'kgh': 0, 'bjm': 0, 'kqh': 0, 'gqh': 0, 'pqq': 0, 'hmt': 1, 'nss': 0, 'qnd': 1, 'dmh': 0, 'ddn': 0, 'nsd': 1, 'gcn': 1, 'jhb': 1, 'dvb': 0, 'z00': 0, 'wkn': 0, 'qrt': 1, 'z01': 0, 'skd': 1, 'nqw': 1, 'z02': 0, 'vnw': 1, 'z03': 1, 'fcg': 0, 'vdc': 1, 'svv': 1, 'z04': 0, 'mmr': 1, 'vrk': 0, 'z05': 1, 'tpv': 1, 'vqk': 0, 'z06': 1, 'pmt': 0, 'z07': 1, 'fgg': 0, 'nqg': 0, 'wqc': 0, 'z08': 0, 'kgr': 0, 'vbr': 0, 'z09': 0, 'hvg': 1, 'z10': 0, 'wvn': 1, 'wpq': 1, 'z11': 0, 'nbh': 1, 'sdh': 1, 'nbq': 1, 'z12': 0, 'kbj': 1, 'z13': 0, 'hdc': 1, 'vnn': 1, 'z14': 1, 'fgv': 0, 'hsp': 1, 'dds': 1, 'z15': 0, 'ddr': 1, 'z16': 1, 'jsv': 0, 'hjp': 0, 'z17': 0, 'jqs': 0, 'wjt': 0, 'htr': 0, 'z18': 1, 'vkt': 0, 'wtr': 0, 'z19': 0, 'tcv': 1, 'cdk': 0, 'z20': 1, 'nhs': 0, 'z21': 1, 'vjd': 0, 'vss': 0, 'tjq': 0, 'z22': 1, 'jsj': 0, 'ddh': 0, 'z23': 1, 'pjt': 0, 'ptt': 0, 'z24': 1, 'nnw': 0, 'z25': 1, 'gnv': 0, 'rvb': 0, 'wtv': 0, 'z26': 1, 'cdm': 0, 'vmf': 0, 'z27': 0, 'cfd': 1, 'z28': 0, 'pht': 1, 'jmc': 1, 'z29': 1, 'hnj': 0, 'fmn': 0, 'z30': 0, 'dtk': 0, 'mkh': 0, 'z31': 1, 'cmn': 0, 'fnk': 0, 'z32': 1, 'dtt': 0, 'sdt': 0, 'rbk': 0, 'z33': 1, 'spk': 0, 'wrc': 0, 'z34': 1, 'pfk': 0, 'cqw': 0, 'z35': 1, 'dnp': 0, 'z36': 1, 'dpq': 0, 'mtq': 0, 'jtf': 0, 'z37': 0, 'ktj': 1, 'z38': 1, 'msm': 0, 'fch': 1, 'z39': 0, 'hkt': 1, 'fqk': 1, 'z40': 0, 'fvd': 1, 'srq': 1, 'dpm': 1, 'z41': 0, 'bfc': 1, 'z42': 1, 'tts': 0, 'dcd': 0, 'hpm': 0, 'z43': 1, 'kkt': 0, 'z44': 0, 'cdh': 0, 'z45': 1}\n"
     ]
    }
   ],
   "source": [
    "with open(\"input.txt\", \"r\") as f:\n",
    "    lines = f.read()\n",
    "\n",
    "mem = {}\n",
    "\n",
    "ins = lines.split(\"\\n\\n\")[1].splitlines()\n",
    "\n",
    "for line in lines.split(\"\\n\\n\")[0].splitlines():\n",
    "    left, right = line.split(\":\")\n",
    "    mem[left] = int(right)\n",
    "\n",
    "instructions = []\n",
    "\n",
    "for line in lines.split(\"\\n\\n\")[1].splitlines():\n",
    "    instructions.append(tuple(line.split(\" -> \")))\n",
    "\n",
    "queue = []\n",
    "\n",
    "for key in mem.keys():\n",
    "    for i in instructions:\n",
    "        n1, op, n2 = i[0].split()\n",
    "        if n1 in mem.keys() and n2 in mem.keys():\n",
    "            queue.append(i)\n",
    "            instructions.remove(i)\n",
    "\n",
    "\n",
    "while queue:\n",
    "\n",
    "    ins, res = queue.pop(0)\n",
    "    n1, op, n2 = ins.split()\n",
    "    \n",
    "    if op == \"AND\":\n",
    "        mem[res] = mem[n1] & mem[n2]\n",
    "    elif op == \"OR\":\n",
    "        mem[res] = mem[n1] | mem[n2]\n",
    "    elif op == \"XOR\":\n",
    "        mem[res] = mem[n1] ^ mem[n2]\n",
    "\n",
    "    for key in mem.keys():\n",
    "        for i in instructions:\n",
    "            n1, op, n2 = i[0].split()\n",
    "            if n1 in mem.keys() and n2 in mem.keys():\n",
    "                queue.append(i)\n",
    "                instructions.remove(i)"
   ]
  },
  {
   "cell_type": "code",
   "execution_count": 107,
   "metadata": {},
   "outputs": [
    {
     "name": "stdout",
     "output_type": "stream",
     "text": [
      "48789351383271\n"
     ]
    }
   ],
   "source": [
    "output = list([(key, value) for key, value in mem.items() if key[0] == \"z\"])\n",
    "output = sorted(output, key=lambda x: x[0])\n",
    "output = [str(x[1]) for x in output]\n",
    "output = \"\".join(output)[::-1]\n",
    "\n",
    "print(int(output, 2))"
   ]
  },
  {
   "cell_type": "code",
   "execution_count": 118,
   "metadata": {},
   "outputs": [
    {
     "name": "stdout",
     "output_type": "stream",
     "text": [
      "48789351383272\n"
     ]
    }
   ],
   "source": [
    "output = list([(key, value) for key, value in mem.items() if key[0] == \"z\"])\n",
    "output = sorted(output, key=lambda x: x[0])\n",
    "output = [str(x[1]) for x in output]\n",
    "output = \"\".join(output)[::-1]\n",
    "\n",
    "print(int(output, 2))"
   ]
  },
  {
   "cell_type": "code",
   "execution_count": 119,
   "metadata": {},
   "outputs": [
    {
     "name": "stdout",
     "output_type": "stream",
     "text": [
      "29650479505071\n"
     ]
    }
   ],
   "source": [
    "output = list([(key, value) for key, value in mem.items() if key[0] == \"y\"])\n",
    "output = sorted(output, key=lambda x: x[0])\n",
    "output = [str(x[1]) for x in output]\n",
    "output = \"\".join(output)[::-1]\n",
    "\n",
    "print(int(output, 2))"
   ]
  },
  {
   "cell_type": "code",
   "execution_count": 120,
   "metadata": {},
   "outputs": [
    {
     "name": "stdout",
     "output_type": "stream",
     "text": [
      "19138871878201\n"
     ]
    }
   ],
   "source": [
    "output = list([(key, value) for key, value in mem.items() if key[0] == \"x\"])\n",
    "output = sorted(output, key=lambda x: x[0])\n",
    "output = [str(x[1]) for x in output]\n",
    "output = \"\".join(output)[::-1]\n",
    "\n",
    "print(int(output, 2))"
   ]
  },
  {
   "cell_type": "code",
   "execution_count": 121,
   "metadata": {},
   "outputs": [
    {
     "data": {
      "text/plain": [
       "0"
      ]
     },
     "execution_count": 121,
     "metadata": {},
     "output_type": "execute_result"
    }
   ],
   "source": [
    "(29650479505071 + 19138871878201) - 48789351383272"
   ]
  },
  {
   "cell_type": "code",
   "execution_count": 48,
   "metadata": {},
   "outputs": [],
   "source": [
    "from pyvis.network import Network\n",
    "G = nx.DiGraph()\n",
    "\n",
    "with open(\"input.txt\", \"r\") as f:\n",
    "    lines = f.read()\n",
    "\n",
    "for line in lines.split(\"\\n\\n\")[1].splitlines():\n",
    "    n1, op, n2, _, res = line.split()\n",
    "    G.add_edge(n1, res, label=op)\n",
    "    G.add_edge(n2, res, label=op)\n",
    "\n",
    "    #if res[0] == \"z\":\n",
    "        #G.add_edge(res, \"output\")\n",
    "\n",
    "net = Network(directed=True)\n",
    "net.from_nx(G)\n",
    "net.save_graph(\"graph.html\")"
   ]
  },
  {
   "cell_type": "code",
   "execution_count": 123,
   "metadata": {},
   "outputs": [
    {
     "name": "stdout",
     "output_type": "stream",
     "text": [
      "ddn,kqh,nhs,nnf,wrc,z09,z20,z34\n"
     ]
    }
   ],
   "source": [
    "t = [\"nhs\", \"z20\", \"z09\", \"z34\", \"wrc\", \"kqh\", \"ddn\", \"nnf\"]\n",
    "t = sorted(t)\n",
    "t = \",\".join(t)\n",
    "print(t)"
   ]
  },
  {
   "cell_type": "markdown",
   "metadata": {},
   "source": [
    "cdk OR rmn -> z20 # change to nhs\n",
    "gqh XOR tcv -> nhs # change to z20\n",
    "\n",
    "kgr XOR fvp -> nnf # change to z09\n",
    "y09 AND x09 -> z09 # change to nnf\n",
    "\n",
    "bmh AND spk -> z34 # change to wrc\n",
    "spk XOR bmh -> wrc # change to z34\n",
    "\n",
    "y30 XOR x30 -> ddn # change to kqh\n",
    "x30 AND y30 -> kqh # change to ddn"
   ]
  }
 ],
 "metadata": {
  "kernelspec": {
   "display_name": "Python 3",
   "language": "python",
   "name": "python3"
  },
  "language_info": {
   "codemirror_mode": {
    "name": "ipython",
    "version": 3
   },
   "file_extension": ".py",
   "mimetype": "text/x-python",
   "name": "python",
   "nbconvert_exporter": "python",
   "pygments_lexer": "ipython3",
   "version": "3.12.5"
  }
 },
 "nbformat": 4,
 "nbformat_minor": 2
}
