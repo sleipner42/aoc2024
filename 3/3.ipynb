{
 "cells": [
  {
   "cell_type": "code",
   "execution_count": 2,
   "metadata": {},
   "outputs": [],
   "source": [
    "import re"
   ]
  },
  {
   "cell_type": "code",
   "execution_count": 1,
   "metadata": {},
   "outputs": [],
   "source": [
    "with open(\"input.txt\", \"r\") as f:\n",
    "    lines = f.read()\n",
    "    "
   ]
  },
  {
   "cell_type": "code",
   "execution_count": 27,
   "metadata": {},
   "outputs": [
    {
     "name": "stdout",
     "output_type": "stream",
     "text": [
      "153469856\n"
     ]
    }
   ],
   "source": [
    "total = 0\n",
    "\n",
    "for a in re.finditer(\"mul\\([\\d ]+\\,[\\d ]+\\)\", lines):\n",
    "    g = a.group(0)\n",
    "    g = g.replace(\"mul(\", \"\")\n",
    "    g = g.replace(\")\", \"\")\n",
    "    x,y = g.split(\",\")\n",
    "    total += int(x) * int(y)\n",
    "\n",
    "print(total)"
   ]
  },
  {
   "cell_type": "code",
   "execution_count": 38,
   "metadata": {},
   "outputs": [
    {
     "name": "stdout",
     "output_type": "stream",
     "text": [
      "77055967\n"
     ]
    }
   ],
   "source": [
    "total = 0\n",
    "disabled = False\n",
    "\n",
    "for a in re.finditer(\"(mul\\([\\d ]+\\,[\\d ]+\\))|(don't\\(\\))|(do\\(\\))\", lines):\n",
    "    g = a.group(0)\n",
    "\n",
    "    if g == \"don't()\":\n",
    "        disabled = True\n",
    "    elif g == \"do()\":\n",
    "        disabled = False\n",
    "    else:\n",
    "        if not disabled:\n",
    "            g = g.replace(\"mul(\", \"\")\n",
    "            g = g.replace(\")\", \"\")\n",
    "            x,y = g.split(\",\")\n",
    "            total += int(x) * int(y)\n",
    "\n",
    "print(total)"
   ]
  }
 ],
 "metadata": {
  "kernelspec": {
   "display_name": "Python 3",
   "language": "python",
   "name": "python3"
  },
  "language_info": {
   "codemirror_mode": {
    "name": "ipython",
    "version": 3
   },
   "file_extension": ".py",
   "mimetype": "text/x-python",
   "name": "python",
   "nbconvert_exporter": "python",
   "pygments_lexer": "ipython3",
   "version": "3.10.13"
  }
 },
 "nbformat": 4,
 "nbformat_minor": 2
}
