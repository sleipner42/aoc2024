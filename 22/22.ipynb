{
 "cells": [
  {
   "cell_type": "code",
   "execution_count": 4,
   "metadata": {},
   "outputs": [
    {
     "data": {
      "text/plain": [
       "20411980517"
      ]
     },
     "execution_count": 4,
     "metadata": {},
     "output_type": "execute_result"
    }
   ],
   "source": [
    "from collections import defaultdict\n",
    "from functools import cache\n",
    "import heapq as heap\n",
    "from tqdm import tqdm\n",
    "import numpy as np\n",
    "from numpy.lib.stride_tricks import sliding_window_view\n",
    "import itertools\n",
    "\n",
    "with open(\"input.txt\", \"r\") as f:\n",
    "    lines = f.read()\n",
    "\n",
    "\n",
    "def simulate_one_round(nr: int):\n",
    "\n",
    "    first_step = ((nr * 64) ^ nr) % 16777216\n",
    "    second_step = ((first_step // 32) ^ first_step) % 16777216\n",
    "    third_step = ((second_step * 2048) ^ second_step) % 16777216\n",
    "\n",
    "    return third_step\n",
    "\n",
    "output = 0\n",
    "m = np.zeros((len(lines.split(\"\\n\")), 2001))\n",
    "\n",
    "for line_no, line in enumerate(lines.split(\"\\n\")):\n",
    "    current_nr = int(line)\n",
    "    m[line_no, 0] = current_nr % 10\n",
    "    for n in range(2000):\n",
    "        current_nr = simulate_one_round(current_nr)\n",
    "        m[line_no, n + 1] = current_nr % 10\n",
    "\n",
    "    output += current_nr\n",
    "    \n",
    "output"
   ]
  },
  {
   "cell_type": "code",
   "execution_count": 5,
   "metadata": {},
   "outputs": [
    {
     "name": "stderr",
     "output_type": "stream",
     "text": [
      "100%|██████████| 2452/2452 [00:17<00:00, 140.20it/s]\n"
     ]
    },
    {
     "data": {
      "text/plain": [
       "2362"
      ]
     },
     "execution_count": 5,
     "metadata": {},
     "output_type": "execute_result"
    }
   ],
   "source": [
    "total_scores = defaultdict(int)\n",
    "\n",
    "sliding_window = sliding_window_view(np.diff(m, axis=1), (1, 4))\n",
    "\n",
    "for n in tqdm(range(sliding_window.shape[0])):\n",
    "    scores = defaultdict(int)\n",
    "    sliding_window = sliding_window_view(np.diff(m, axis=1), (1, 4))\n",
    "\n",
    "    for i in range(sliding_window.shape[1]):\n",
    "        key = tuple(sliding_window[n, i, 0, :].tolist())\n",
    "        if key not in scores:\n",
    "            scores[key] += int(m[n, i + 4])\n",
    "\n",
    "    for key, value in scores.items():\n",
    "        total_scores[key] += value\n",
    "\n",
    "max(total_scores.values())"
   ]
  }
 ],
 "metadata": {
  "kernelspec": {
   "display_name": "Python 3",
   "language": "python",
   "name": "python3"
  },
  "language_info": {
   "codemirror_mode": {
    "name": "ipython",
    "version": 3
   },
   "file_extension": ".py",
   "mimetype": "text/x-python",
   "name": "python",
   "nbconvert_exporter": "python",
   "pygments_lexer": "ipython3",
   "version": "3.12.5"
  }
 },
 "nbformat": 4,
 "nbformat_minor": 2
}
