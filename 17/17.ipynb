{
 "cells": [
  {
   "cell_type": "code",
   "execution_count": 67,
   "metadata": {},
   "outputs": [],
   "source": [
    "from collections import defaultdict\n",
    "import heapq as heap\n",
    "import re\n",
    "\n",
    "with open(\"input.txt\", \"r\") as f:\n",
    "    lines = f.read()\n"
   ]
  },
  {
   "cell_type": "code",
   "execution_count": 69,
   "metadata": {},
   "outputs": [
    {
     "name": "stdout",
     "output_type": "stream",
     "text": [
      "3,1,5,3,7,4,2,7,5,\n",
      "0 5 2\n"
     ]
    }
   ],
   "source": [
    "a, b, c, *prog =  re.findall(r'(\\d+)', lines)\n",
    "a, b, c = int(a), int(b), int(c)\n",
    "prog = [int(n) for n in prog]\n",
    "\n",
    "#a,b,c = 2024,0,0\n",
    "#prog = [0,1,5,4,3,0]\n",
    "\n",
    "pointer = 0\n",
    "\n",
    "while pointer < len(prog):\n",
    "    \n",
    "    opcode = prog[pointer]\n",
    "    literal_operand = prog[pointer + 1]\n",
    "    combo_operand = prog[pointer + 1]\n",
    "\n",
    "    #print(opcode, literal_operand, combo_operand)\n",
    "\n",
    "    if combo_operand == 4:\n",
    "        combo_operand = a\n",
    "    elif combo_operand == 5:\n",
    "        combo_operand = b\n",
    "    elif combo_operand == 6:\n",
    "        combo_operand = c\n",
    "    \n",
    "    if opcode == 0:\n",
    "        result = a/(2**combo_operand)\n",
    "        a = int(result//1)\n",
    "    elif opcode == 1:\n",
    "        result = b ^ literal_operand\n",
    "        b = result\n",
    "    elif opcode == 2:\n",
    "        result = combo_operand % 8\n",
    "        b = result\n",
    "    elif opcode == 3:\n",
    "        if a != 0:\n",
    "            pointer = literal_operand\n",
    "            continue\n",
    "    elif opcode == 4:\n",
    "        result = b ^ c\n",
    "        b = result\n",
    "    elif opcode == 5:\n",
    "        result = combo_operand % 8\n",
    "        print(result, end=\",\")\n",
    "    elif opcode == 6:\n",
    "        result = a/(2**combo_operand)\n",
    "        b = int(result//1)\n",
    "    elif opcode == 7:\n",
    "        result = a/(2**combo_operand)\n",
    "        c = int(result//1)\n",
    "\n",
    "    pointer += 2\n",
    "\n",
    "print()\n",
    "print(a,b,c)"
   ]
  }
 ],
 "metadata": {
  "kernelspec": {
   "display_name": "Python 3",
   "language": "python",
   "name": "python3"
  },
  "language_info": {
   "codemirror_mode": {
    "name": "ipython",
    "version": 3
   },
   "file_extension": ".py",
   "mimetype": "text/x-python",
   "name": "python",
   "nbconvert_exporter": "python",
   "pygments_lexer": "ipython3",
   "version": "3.10.13"
  }
 },
 "nbformat": 4,
 "nbformat_minor": 2
}
