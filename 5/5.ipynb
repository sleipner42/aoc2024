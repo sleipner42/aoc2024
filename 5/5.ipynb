{
 "cells": [
  {
   "cell_type": "code",
   "execution_count": 141,
   "metadata": {},
   "outputs": [],
   "source": [
    "import numpy as np\n",
    "import re\n",
    "from collections import defaultdict\n"
   ]
  },
  {
   "cell_type": "code",
   "execution_count": 142,
   "metadata": {},
   "outputs": [],
   "source": [
    "with open(\"input.txt\", \"r\") as f:\n",
    "    lines = f.read()"
   ]
  },
  {
   "cell_type": "code",
   "execution_count": 143,
   "metadata": {},
   "outputs": [],
   "source": [
    "rules, prints = lines.split(\"\\n\\n\")"
   ]
  },
  {
   "cell_type": "code",
   "execution_count": 144,
   "metadata": {},
   "outputs": [],
   "source": [
    "r_dict = defaultdict(set)\n",
    "\n",
    "for r in rules.split(\"\\n\"):\n",
    "    a, b = r.split(\"|\")\n",
    "    r_dict[b].add(a)"
   ]
  },
  {
   "cell_type": "code",
   "execution_count": 145,
   "metadata": {},
   "outputs": [
    {
     "name": "stdout",
     "output_type": "stream",
     "text": [
      "5747\n"
     ]
    }
   ],
   "source": [
    "total = 0\n",
    "wrongs = []\n",
    "\n",
    "for p in prints.split(\"\\n\"):\n",
    "\n",
    "    seq = p.split(\",\")\n",
    "    for i, n in enumerate(seq):\n",
    "        val = r_dict[n]\n",
    "\n",
    "        if val.intersection(set(seq[i + 1 :])):\n",
    "            wrongs.append(seq)\n",
    "            break\n",
    "    else:\n",
    "        total += int(seq[int((len(seq) - 1) / 2)])\n",
    "\n",
    "print(total)\n"
   ]
  },
  {
   "cell_type": "code",
   "execution_count": 147,
   "metadata": {},
   "outputs": [],
   "source": [
    "all_rules = defaultdict(set)\n",
    "\n",
    "for a in rules.split(\"\\n\"):\n",
    "    a, b = a.split(\"|\")\n",
    "    first_number = a\n",
    "    second_number = b\n",
    "    all_rules[first_number].add(second_number)\n",
    "\n",
    "def get_correct_order(relevent_rules):\n",
    "\n",
    "    master_order = []\n",
    "    rules = relevent_rules.copy()\n",
    "\n",
    "    while len(rules) > 0:\n",
    "\n",
    "        key_set = set(list(rules.keys()))\n",
    "        value_set = set.union(*rules.values())\n",
    "\n",
    "        first_number = (key_set - value_set).pop()\n",
    "        last_number = (value_set - key_set).pop()\n",
    "\n",
    "        master_order.append(first_number)\n",
    "        del rules[first_number]\n",
    "\n",
    "\n",
    "    master_order.append(last_number)\n",
    "    return master_order\n"
   ]
  },
  {
   "cell_type": "code",
   "execution_count": 148,
   "metadata": {},
   "outputs": [
    {
     "data": {
      "text/plain": [
       "5502"
      ]
     },
     "execution_count": 148,
     "metadata": {},
     "output_type": "execute_result"
    }
   ],
   "source": [
    "total = 0\n",
    "for wrong in wrongs:\n",
    "\n",
    "    relevent_rules = {k: v for k, v in all_rules.items() if k in wrong}\n",
    "    correct_order = get_correct_order(relevent_rules)\n",
    "    total += int(correct_order[int((len(correct_order) - 1) / 2)])\n",
    "\n",
    "total\n"
   ]
  }
 ],
 "metadata": {
  "kernelspec": {
   "display_name": "Python 3",
   "language": "python",
   "name": "python3"
  },
  "language_info": {
   "codemirror_mode": {
    "name": "ipython",
    "version": 3
   },
   "file_extension": ".py",
   "mimetype": "text/x-python",
   "name": "python",
   "nbconvert_exporter": "python",
   "pygments_lexer": "ipython3",
   "version": "3.10.13"
  }
 },
 "nbformat": 4,
 "nbformat_minor": 2
}
