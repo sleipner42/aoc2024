{
 "cells": [
  {
   "cell_type": "code",
   "execution_count": 36,
   "metadata": {},
   "outputs": [],
   "source": [
    "import itertools\n",
    "from collections import defaultdict"
   ]
  },
  {
   "cell_type": "code",
   "execution_count": 37,
   "metadata": {},
   "outputs": [],
   "source": [
    "with open(\"input.txt\", \"r\") as f:\n",
    "    lines = f.read()\n",
    "\n",
    "nodes = set()\n",
    "edge_dict = defaultdict(set)\n",
    "\n",
    "\n",
    "for line in lines.splitlines():\n",
    "    left, right = line.split(\"-\")\n",
    "    nodes.add(left)\n",
    "    nodes.add(right)\n",
    "\n",
    "    edge_dict[left].add(right)\n",
    "    edge_dict[right].add(left)"
   ]
  },
  {
   "cell_type": "code",
   "execution_count": 38,
   "metadata": {},
   "outputs": [
    {
     "name": "stdout",
     "output_type": "stream",
     "text": [
      "1304\n"
     ]
    }
   ],
   "source": [
    "connected_nodes = set()\n",
    "\n",
    "for node in nodes:\n",
    "\n",
    "    edges = edge_dict[node]\n",
    "    \n",
    "    for n1, n2 in itertools.combinations(edges, 2):\n",
    "        if n1 in edge_dict[n2]:\n",
    "            if n1[0] == 't' or n2[0] == 't' or node[0] == 't':\n",
    "                connected_nodes.add(tuple(sorted([n1, n2, node])))\n",
    "\n",
    "print(len(connected_nodes))"
   ]
  },
  {
   "cell_type": "code",
   "execution_count": 40,
   "metadata": {},
   "outputs": [
    {
     "data": {
      "text/plain": [
       "'ao,es,fe,if,in,io,ky,qq,rd,rn,rv,vc,vl'"
      ]
     },
     "execution_count": 40,
     "metadata": {},
     "output_type": "execute_result"
    }
   ],
   "source": [
    "connected_nodes = set()\n",
    "\n",
    "for node in nodes:\n",
    "\n",
    "    edges = edge_dict[node]\n",
    "    for neigbours in itertools.combinations(edges, 12):\n",
    "        if all(n1 in edge_dict[n2] for n1, n2 in itertools.combinations(neigbours, 2)):\n",
    "            connected_nodes.add(tuple(sorted(list(neigbours) + [node])))\n",
    "\n",
    "\",\".join(connected_nodes.pop())"
   ]
  }
 ],
 "metadata": {
  "kernelspec": {
   "display_name": "Python 3",
   "language": "python",
   "name": "python3"
  },
  "language_info": {
   "codemirror_mode": {
    "name": "ipython",
    "version": 3
   },
   "file_extension": ".py",
   "mimetype": "text/x-python",
   "name": "python",
   "nbconvert_exporter": "python",
   "pygments_lexer": "ipython3",
   "version": "3.12.5"
  }
 },
 "nbformat": 4,
 "nbformat_minor": 2
}
