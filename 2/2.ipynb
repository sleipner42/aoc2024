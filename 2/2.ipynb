{
 "cells": [
  {
   "cell_type": "code",
   "execution_count": 65,
   "metadata": {},
   "outputs": [],
   "source": [
    "with open(\"input.txt\", \"r\") as f:\n",
    "    lines = f.read().splitlines()"
   ]
  },
  {
   "cell_type": "code",
   "execution_count": 72,
   "metadata": {},
   "outputs": [
    {
     "name": "stdout",
     "output_type": "stream",
     "text": [
      "526\n"
     ]
    }
   ],
   "source": [
    "n_safe = 0\n",
    "\n",
    "def is_safe(l):\n",
    "\n",
    "    dir = []\n",
    "\n",
    "    for i in range(len(l) - 1):\n",
    "\n",
    "        delta = l[i + 1] - l[i]\n",
    "        if abs(delta) > 3 or delta == 0:\n",
    "            return False\n",
    "        \n",
    "        if delta >= 0:\n",
    "            dir.append(1)\n",
    "        else:\n",
    "            dir.append(-1)\n",
    "        \n",
    "        if len(set(dir)) > 1:\n",
    "            return False\n",
    "    \n",
    "    return True\n",
    "    \n",
    "\n",
    "for line in lines:\n",
    "\n",
    "    l = [int(x) for x in line.split(\" \")]\n",
    "\n",
    "    if is_safe(l):\n",
    "        n_safe += 1\n",
    "        \n",
    "\n",
    "print(n_safe)"
   ]
  },
  {
   "cell_type": "code",
   "execution_count": 76,
   "metadata": {},
   "outputs": [
    {
     "name": "stdout",
     "output_type": "stream",
     "text": [
      "566\n"
     ]
    }
   ],
   "source": [
    "n_safe = 0\n",
    "for line in lines:\n",
    "\n",
    "    l = [int(x) for x in line.split(\" \")]\n",
    "\n",
    "    if is_safe(l):\n",
    "        n_safe += 1\n",
    "        continue\n",
    "\n",
    "    for i in range(len(l)):\n",
    "\n",
    "        removed_i = l[:i] + l[i+1:]\n",
    "\n",
    "        if is_safe(removed_i):\n",
    "            n_safe += 1\n",
    "            break\n",
    "\n",
    "\n",
    "print(n_safe)"
   ]
  }
 ],
 "metadata": {
  "kernelspec": {
   "display_name": "Python 3",
   "language": "python",
   "name": "python3"
  },
  "language_info": {
   "codemirror_mode": {
    "name": "ipython",
    "version": 3
   },
   "file_extension": ".py",
   "mimetype": "text/x-python",
   "name": "python",
   "nbconvert_exporter": "python",
   "pygments_lexer": "ipython3",
   "version": "3.10.13"
  }
 },
 "nbformat": 4,
 "nbformat_minor": 2
}
