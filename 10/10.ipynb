{
 "cells": [
  {
   "cell_type": "code",
   "execution_count": 63,
   "metadata": {},
   "outputs": [],
   "source": [
    "import numpy as np"
   ]
  },
  {
   "cell_type": "code",
   "execution_count": 64,
   "metadata": {},
   "outputs": [],
   "source": [
    "with open(\"input.txt\", \"r\") as f:\n",
    "    lines = f.read()\n",
    "\n",
    "m = dict()\n",
    "for y, line in enumerate(lines.split(\"\\n\")):\n",
    "    for x, c in enumerate(line):\n",
    "        m[(x, y)] = int(c)\n"
   ]
  },
  {
   "cell_type": "code",
   "execution_count": 72,
   "metadata": {},
   "outputs": [
    {
     "name": "stdout",
     "output_type": "stream",
     "text": [
      "644 1366\n"
     ]
    }
   ],
   "source": [
    "def get_neighbors(pos, m):\n",
    "    x, y = pos\n",
    "    return [p for p in [(x+1, y), (x-1, y), (x, y+1), (x, y-1)] if p in m]\n",
    "\n",
    "\n",
    "def get_nines(pos, m):\n",
    "\n",
    "    current_val = m[pos]\n",
    "\n",
    "    if current_val == 9:\n",
    "        return [pos]\n",
    "\n",
    "    neighbors = get_neighbors(pos, m)\n",
    "\n",
    "    paths = []\n",
    "\n",
    "    for n in neighbors:\n",
    "        if m[n] == current_val + 1:\n",
    "            paths.extend(get_nines(n, m))\n",
    "        \n",
    "    return paths\n",
    "\n",
    "p1, p2 = 0, 0\n",
    "\n",
    "for start in [pos for pos, val in m.items() if val == 0]:\n",
    "    paths = get_nines(start, m)\n",
    "    p1 += len(set(paths))\n",
    "    p2 += len(paths)\n",
    "\n",
    "print(p1, p2)\n"
   ]
  }
 ],
 "metadata": {
  "kernelspec": {
   "display_name": "Python 3",
   "language": "python",
   "name": "python3"
  },
  "language_info": {
   "codemirror_mode": {
    "name": "ipython",
    "version": 3
   },
   "file_extension": ".py",
   "mimetype": "text/x-python",
   "name": "python",
   "nbconvert_exporter": "python",
   "pygments_lexer": "ipython3",
   "version": "3.10.13"
  }
 },
 "nbformat": 4,
 "nbformat_minor": 2
}
