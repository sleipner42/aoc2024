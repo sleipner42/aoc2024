{
 "cells": [
  {
   "cell_type": "code",
   "execution_count": 64,
   "metadata": {},
   "outputs": [],
   "source": [
    "with open(\"input.txt\", \"r\") as f:\n",
    "    lines = f.read()\n",
    "\n",
    "m = dict()\n",
    "for y, line in enumerate(lines.split(\"\\n\")):\n",
    "    for x, c in enumerate(line):\n",
    "        m[(x, y)] = int(c)\n"
   ]
  },
  {
   "cell_type": "code",
   "execution_count": 75,
   "metadata": {},
   "outputs": [
    {
     "name": "stdout",
     "output_type": "stream",
     "text": [
      "644 1366\n"
     ]
    }
   ],
   "source": [
    "def get_nines(pos, m):\n",
    "\n",
    "    if m[pos] == 9:\n",
    "        return [pos]\n",
    "\n",
    "    paths = []\n",
    "    x, y = pos\n",
    "    for n in [\n",
    "        p\n",
    "        for p in [(x + 1, y), (x - 1, y), (x, y + 1), (x, y - 1)]\n",
    "        if p in m and m[p] == m[pos] + 1\n",
    "    ]:\n",
    "        paths.extend(get_nines(n, m))\n",
    "\n",
    "    return paths\n",
    "\n",
    "\n",
    "p1, p2 = 0, 0\n",
    "\n",
    "for start in [pos for pos, val in m.items() if val == 0]:\n",
    "    paths = get_nines(start, m)\n",
    "    p1 += len(set(paths))\n",
    "    p2 += len(paths)\n",
    "\n",
    "print(p1, p2)"
   ]
  }
 ],
 "metadata": {
  "kernelspec": {
   "display_name": "Python 3",
   "language": "python",
   "name": "python3"
  },
  "language_info": {
   "codemirror_mode": {
    "name": "ipython",
    "version": 3
   },
   "file_extension": ".py",
   "mimetype": "text/x-python",
   "name": "python",
   "nbconvert_exporter": "python",
   "pygments_lexer": "ipython3",
   "version": "3.10.13"
  }
 },
 "nbformat": 4,
 "nbformat_minor": 2
}
