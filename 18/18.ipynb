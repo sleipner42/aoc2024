{
 "cells": [
  {
   "cell_type": "code",
   "execution_count": 9,
   "metadata": {},
   "outputs": [],
   "source": [
    "import heapq as heap\n",
    "\n",
    "with open(\"input.txt\", \"r\") as f:\n",
    "    lines = f.read()\n",
    "\n",
    "start = (0,0)\n",
    "end = (70,70)\n",
    "\n",
    "def get_data(lines, nr):\n",
    "\n",
    "    walls = set()\n",
    "\n",
    "    for line in lines.splitlines()[:nr]:\n",
    "        x, y = map(int, line.split(\",\"))\n",
    "        walls.add((x, y))\n",
    "\n",
    "    graph = set()\n",
    "\n",
    "    for x in range(71):\n",
    "        for y in range(71):\n",
    "            if (x,y) not in walls:\n",
    "                graph.add((x,y))\n",
    "\n",
    "    return graph, walls\n"
   ]
  },
  {
   "cell_type": "code",
   "execution_count": 10,
   "metadata": {},
   "outputs": [],
   "source": [
    "\n",
    "def get_min_cost(graph, walls, start, end):\n",
    "    directions = [(0, -1), (1, 0), (0, 1), (-1, 0)]\n",
    "    costs = {(node[0], node[1]): float(\"inf\") for node in graph}\n",
    "\n",
    "    costs[(start[0], start[1])] = 0\n",
    "\n",
    "    visited = set()\n",
    "    pq = []\n",
    "    heap.heappush(pq, (0, (start[0], start[1])))\n",
    "\n",
    "    while pq:\n",
    "\n",
    "        _, node = heap.heappop(pq)\n",
    "        visited.add(node)\n",
    "\n",
    "        for direction in directions:\n",
    "\n",
    "            next_node = (\n",
    "                node[0] + direction[0],\n",
    "                node[1] + direction[1],\n",
    "            )\n",
    "\n",
    "            if next_node in visited:\n",
    "                continue\n",
    "\n",
    "            if next_node in walls:\n",
    "                continue\n",
    "\n",
    "            if next_node not in graph:\n",
    "                continue\n",
    "\n",
    "            newCost = costs[node] + 1\n",
    "\n",
    "            if costs[next_node] > newCost:\n",
    "                \n",
    "                costs[next_node] = newCost\n",
    "                heap.heappush(pq, (newCost, next_node))\n",
    "\n",
    "\n",
    "    return costs[(end[0], end[1])]"
   ]
  },
  {
   "cell_type": "code",
   "execution_count": 11,
   "metadata": {},
   "outputs": [
    {
     "name": "stdout",
     "output_type": "stream",
     "text": [
      "286\n"
     ]
    }
   ],
   "source": [
    "graph, walls = get_data(lines, 1024)\n",
    "print(get_min_cost(graph, walls, start, end))"
   ]
  },
  {
   "cell_type": "code",
   "execution_count": 27,
   "metadata": {},
   "outputs": [
    {
     "name": "stdout",
     "output_type": "stream",
     "text": [
      "20,64\n"
     ]
    }
   ],
   "source": [
    "for n in list(range(1024, len(lines.splitlines())))[::-1]:\n",
    "    graph, walls = get_data(lines, n)\n",
    "    cost = get_min_cost(graph, walls, start, end)\n",
    "    if cost != float(\"inf\"):\n",
    "        print(lines.splitlines()[n])\n",
    "        break"
   ]
  }
 ],
 "metadata": {
  "kernelspec": {
   "display_name": "Python 3",
   "language": "python",
   "name": "python3"
  },
  "language_info": {
   "codemirror_mode": {
    "name": "ipython",
    "version": 3
   },
   "file_extension": ".py",
   "mimetype": "text/x-python",
   "name": "python",
   "nbconvert_exporter": "python",
   "pygments_lexer": "ipython3",
   "version": "3.10.13"
  }
 },
 "nbformat": 4,
 "nbformat_minor": 2
}
