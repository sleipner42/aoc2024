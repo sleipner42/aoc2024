{
 "cells": [
  {
   "cell_type": "code",
   "execution_count": 58,
   "metadata": {},
   "outputs": [],
   "source": [
    "import numpy as np\n",
    "import re\n",
    "from collections import defaultdict\n",
    "from tqdm import tqdm\n"
   ]
  },
  {
   "cell_type": "code",
   "execution_count": 51,
   "metadata": {},
   "outputs": [],
   "source": [
    "with open(\"input.txt\", \"r\") as f:\n",
    "    lines = f.read()"
   ]
  },
  {
   "cell_type": "code",
   "execution_count": 74,
   "metadata": {},
   "outputs": [
    {
     "data": {
      "text/plain": [
       "4454"
      ]
     },
     "execution_count": 74,
     "metadata": {},
     "output_type": "execute_result"
    }
   ],
   "source": [
    "m = defaultdict(str)\n",
    "\n",
    "for x, line in enumerate(lines.split(\"\\n\")):\n",
    "    for y, c in enumerate(line):\n",
    "        m[(y, x)] = c\n",
    "\n",
    "start_pos = (0, 0)\n",
    "\n",
    "for pos, c in m.items():\n",
    "    if c == \"^\":\n",
    "        start_pos = pos\n",
    "        m[pos] = \".\"\n",
    "        break\n",
    "\n",
    "def get_nr_visited(m, pos):\n",
    "\n",
    "    dir = (0, -1)\n",
    "    visited = set()\n",
    "    visited_loop = set()\n",
    "\n",
    "    counter = 0\n",
    "\n",
    "    loop_threshold = 1e5\n",
    "\n",
    "    while pos in m:\n",
    "        visited.add(pos)\n",
    "\n",
    "        if (pos, dir) in visited_loop:\n",
    "            return None\n",
    "        visited_loop.add((pos, dir))\n",
    "\n",
    "        new_pos = (pos[0] + dir[0], pos[1] + dir[1])\n",
    "\n",
    "        if m.get(new_pos) == \"#\":\n",
    "            dir = (-dir[1], dir[0])\n",
    "        else:\n",
    "            pos = new_pos\n",
    "\n",
    "        # counter += 1\n",
    "        # if counter > loop_threshold:\n",
    "        #     return None\n",
    "\n",
    "    return len(visited)\n",
    "\n",
    "get_nr_visited(m, start_pos)"
   ]
  },
  {
   "cell_type": "code",
   "execution_count": 75,
   "metadata": {},
   "outputs": [
    {
     "name": "stderr",
     "output_type": "stream",
     "text": [
      "100%|██████████| 16900/16900 [00:39<00:00, 431.16it/s]"
     ]
    },
    {
     "name": "stdout",
     "output_type": "stream",
     "text": [
      "1503\n"
     ]
    },
    {
     "name": "stderr",
     "output_type": "stream",
     "text": [
      "\n"
     ]
    }
   ],
   "source": [
    "loop = 0\n",
    "\n",
    "for pos, c in tqdm(m.items()):\n",
    "    if c == \"#\":\n",
    "        continue\n",
    "    temp_map = m.copy()\n",
    "    temp_map[pos] = \"#\"\n",
    "\n",
    "    nr_visited = get_nr_visited(temp_map, start_pos)\n",
    "    if nr_visited is None:\n",
    "        loop += 1\n",
    "\n",
    "print(loop)"
   ]
  }
 ],
 "metadata": {
  "kernelspec": {
   "display_name": "Python 3",
   "language": "python",
   "name": "python3"
  },
  "language_info": {
   "codemirror_mode": {
    "name": "ipython",
    "version": 3
   },
   "file_extension": ".py",
   "mimetype": "text/x-python",
   "name": "python",
   "nbconvert_exporter": "python",
   "pygments_lexer": "ipython3",
   "version": "3.12.5"
  }
 },
 "nbformat": 4,
 "nbformat_minor": 2
}
