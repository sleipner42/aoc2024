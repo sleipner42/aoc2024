{
 "cells": [
  {
   "cell_type": "code",
   "execution_count": 71,
   "metadata": {},
   "outputs": [],
   "source": [
    "from collections import defaultdict\n",
    "from functools import cache\n",
    "\n",
    "with open(\"input.txt\", \"r\") as f:\n",
    "    lines = f.read()\n",
    "\n",
    "\n",
    "m = defaultdict(set)\n",
    "\n",
    "for y, line in enumerate(lines.split(\"\\n\")):\n",
    "    for x, char in enumerate(line):\n",
    "        m[char].add((x, y))\n",
    "\n",
    "\n",
    "new_m = defaultdict(set)\n",
    "\n",
    "for region, positions in m.items():\n",
    "    \n",
    "    region_no = 0\n",
    "\n",
    "    while len(positions) > 0:\n",
    "\n",
    "        pos = positions.pop()\n",
    "        key = f\"{region}_{region_no}\"\n",
    "        new_m[key].add(pos)\n",
    "    \n",
    "        search = [pos]\n",
    "\n",
    "        while len(search) > 0:\n",
    "            x,y = search.pop()\n",
    "            for n in [(x + 1, y), (x - 1, y), (x, y + 1), (x, y - 1)]:\n",
    "                if n in positions:\n",
    "                    new_m[key].add(n)\n",
    "                    search.append(n)\n",
    "                    positions.remove(n)\n",
    "\n",
    "        region_no += 1"
   ]
  },
  {
   "cell_type": "code",
   "execution_count": 72,
   "metadata": {},
   "outputs": [
    {
     "data": {
      "text/plain": [
       "1344578"
      ]
     },
     "execution_count": 72,
     "metadata": {},
     "output_type": "execute_result"
    }
   ],
   "source": [
    "output = 0\n",
    "\n",
    "for region, positions in new_m.items():\n",
    "    \n",
    "    area = len(positions)\n",
    "    fences = 0\n",
    "\n",
    "    for pos in positions:\n",
    "        x, y = pos\n",
    "        for n in [(x + 1, y), (x - 1, y), (x, y + 1), (x, y - 1)]:\n",
    "            if n not in positions:\n",
    "                fences += 1\n",
    "\n",
    "    output += area * fences\n",
    "\n",
    "output"
   ]
  },
  {
   "cell_type": "code",
   "execution_count": 74,
   "metadata": {},
   "outputs": [
    {
     "data": {
      "text/plain": [
       "814302"
      ]
     },
     "execution_count": 74,
     "metadata": {},
     "output_type": "execute_result"
    }
   ],
   "source": [
    "output = 0\n",
    "max_y = max(y for positions in new_m.values() for x, y in positions)\n",
    "max_x = max(x for positions in new_m.values() for x, y in positions)\n",
    "\n",
    "for region, positions in new_m.items():\n",
    "    \n",
    "    area = len(positions)\n",
    "    sides = 0\n",
    "\n",
    "    for y in range(max_y + 1):\n",
    "\n",
    "        on_side_above = False\n",
    "        on_side_below = False\n",
    "        for x in range(max_x + 1):\n",
    "\n",
    "            pos = (x, y)\n",
    "            pos_above = (x, y + 1)\n",
    "            pos_below = (x, y - 1)\n",
    "\n",
    "            if pos in positions and pos_above not in positions:\n",
    "                if on_side_above is False:\n",
    "                    sides += 1\n",
    "                    on_side_above = True\n",
    "            else:\n",
    "                on_side_above = False\n",
    "\n",
    "            if pos in positions and pos_below not in positions:\n",
    "                if on_side_below is False:\n",
    "                    sides += 1\n",
    "                    on_side_below = True\n",
    "            else:\n",
    "                on_side_below = False\n",
    "\n",
    "    for x in range(max_x + 1):\n",
    "\n",
    "        on_side_left = False\n",
    "        on_side_right = False\n",
    "        for y in range(max_y + 1):\n",
    "\n",
    "            pos = (x, y)\n",
    "            pos_left = (x - 1, y)\n",
    "            pos_right = (x + 1, y)\n",
    "\n",
    "            if pos in positions and pos_left not in positions:\n",
    "                if on_side_left is False:\n",
    "                    sides += 1\n",
    "                    on_side_left = True\n",
    "            else:\n",
    "                on_side_left = False\n",
    "\n",
    "            if pos in positions and pos_right not in positions:\n",
    "                if on_side_right is False:\n",
    "                    sides += 1\n",
    "                    on_side_right = True\n",
    "            else:\n",
    "                on_side_right = False\n",
    "\n",
    "    output += area * sides\n",
    "\n",
    "output"
   ]
  }
 ],
 "metadata": {
  "kernelspec": {
   "display_name": "Python 3",
   "language": "python",
   "name": "python3"
  },
  "language_info": {
   "codemirror_mode": {
    "name": "ipython",
    "version": 3
   },
   "file_extension": ".py",
   "mimetype": "text/x-python",
   "name": "python",
   "nbconvert_exporter": "python",
   "pygments_lexer": "ipython3",
   "version": "3.10.13"
  }
 },
 "nbformat": 4,
 "nbformat_minor": 2
}
