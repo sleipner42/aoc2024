{
 "cells": [
  {
   "cell_type": "code",
   "execution_count": 158,
   "metadata": {},
   "outputs": [],
   "source": [
    "from tqdm import tqdm\n",
    "with open(\"input.txt\", \"r\") as f:\n",
    "    lines = f.read()"
   ]
  },
  {
   "cell_type": "code",
   "execution_count": 160,
   "metadata": {},
   "outputs": [],
   "source": [
    "def find_solution_nr_1(target_sum: int, current_sum: int, current_list: list[int]) -> bool:\n",
    "\n",
    "    if len(current_list) == 0 and current_sum == target_sum:\n",
    "        return True\n",
    "    if len(current_list) == 0 and current_sum != target_sum:\n",
    "        return False\n",
    "    \n",
    "    if current_sum > target_sum:\n",
    "        return False\n",
    "    \n",
    "    add = find_solution_nr_1(target_sum, current_sum + current_list[0], current_list[1:])\n",
    "    multiple = find_solution_nr_1(target_sum, current_sum * current_list[0], current_list[1:])\n",
    "\n",
    "    return add or multiple\n",
    "\n",
    "\n",
    "def find_solution_nr_2(target_sum: int, current_sum: int, current_list: list[int]) -> bool:\n",
    "\n",
    "    if len(current_list) == 0 and current_sum == target_sum:\n",
    "        return True\n",
    "    if len(current_list) == 0 and current_sum != target_sum:\n",
    "        return False\n",
    "        \n",
    "    if current_sum > target_sum:\n",
    "        return False\n",
    "    \n",
    "    add = find_solution_nr_2(target_sum, current_sum + current_list[0], current_list[1:])\n",
    "    multiple = find_solution_nr_2(target_sum, current_sum * current_list[0], current_list[1:])\n",
    "\n",
    "    if current_sum != 0:\n",
    "        concatenate = find_solution_nr_2(target_sum, int(f'{current_sum}{current_list[0]}'), current_list[1:])\n",
    "    else:\n",
    "        concatenate = False\n",
    "    \n",
    "    return add or multiple or concatenate"
   ]
  },
  {
   "cell_type": "code",
   "execution_count": 161,
   "metadata": {},
   "outputs": [
    {
     "name": "stdout",
     "output_type": "stream",
     "text": [
      "1298103531759\n"
     ]
    }
   ],
   "source": [
    "total = 0\n",
    "failed_lines = []\n",
    "\n",
    "for line in lines.splitlines():\n",
    "    target_sum = int(line.split(\":\")[0])\n",
    "    l = tuple(map(int, line.split(\":\")[1].split()))\n",
    "\n",
    "    if find_solution_nr_1(target_sum, 0, l):\n",
    "        total += target_sum\n",
    "    else:\n",
    "        failed_lines.append(line)\n",
    "\n",
    "print(total)"
   ]
  },
  {
   "cell_type": "code",
   "execution_count": 162,
   "metadata": {},
   "outputs": [
    {
     "name": "stderr",
     "output_type": "stream",
     "text": [
      "100%|██████████| 544/544 [00:02<00:00, 203.98it/s]"
     ]
    },
    {
     "name": "stdout",
     "output_type": "stream",
     "text": [
      "140575048428831\n"
     ]
    },
    {
     "name": "stderr",
     "output_type": "stream",
     "text": [
      "\n"
     ]
    }
   ],
   "source": [
    "total_2 = 0\n",
    "\n",
    "for line in tqdm(failed_lines):\n",
    "    \n",
    "    target_sum = int(line.split(\":\")[0])\n",
    "    l = tuple(map(int, line.split(\":\")[1].split()))\n",
    "\n",
    "    if find_solution_nr_2(target_sum, 0, l):\n",
    "        total_2 += target_sum\n",
    "\n",
    "print(total_2 + total)"
   ]
  }
 ],
 "metadata": {
  "kernelspec": {
   "display_name": "Python 3",
   "language": "python",
   "name": "python3"
  },
  "language_info": {
   "codemirror_mode": {
    "name": "ipython",
    "version": 3
   },
   "file_extension": ".py",
   "mimetype": "text/x-python",
   "name": "python",
   "nbconvert_exporter": "python",
   "pygments_lexer": "ipython3",
   "version": "3.12.5"
  }
 },
 "nbformat": 4,
 "nbformat_minor": 2
}
