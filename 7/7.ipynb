{
 "cells": [
  {
   "cell_type": "code",
   "execution_count": 194,
   "metadata": {},
   "outputs": [],
   "source": [
    "from tqdm import tqdm"
   ]
  },
  {
   "cell_type": "code",
   "execution_count": 197,
   "metadata": {},
   "outputs": [],
   "source": [
    "def find_solution(\n",
    "    target_sum: int, current_sum: int, current_list: list[int], nr_2: bool = False\n",
    ") -> bool:\n",
    "\n",
    "    if len(current_list) == 0 and current_sum == target_sum:\n",
    "        return True\n",
    "    if len(current_list) == 0 and current_sum != target_sum:\n",
    "        return False\n",
    "\n",
    "    if current_sum + sum(current_list) > target_sum:\n",
    "        return False\n",
    "\n",
    "    checks = []\n",
    "\n",
    "    checks.append(\n",
    "        find_solution(target_sum, current_sum + current_list[0], current_list[1:], nr_2)\n",
    "    )\n",
    "\n",
    "    if current_sum != 0:\n",
    "        checks.append(\n",
    "            find_solution(\n",
    "                target_sum, current_sum * current_list[0], current_list[1:], nr_2\n",
    "            )\n",
    "        )\n",
    "\n",
    "    if nr_2 and current_sum != 0:\n",
    "        checks.append(\n",
    "            find_solution(\n",
    "                target_sum,\n",
    "                int(f\"{current_sum}{current_list[0]}\"),\n",
    "                current_list[1:],\n",
    "                nr_2,\n",
    "            )\n",
    "        )\n",
    "\n",
    "    return any(checks)"
   ]
  },
  {
   "cell_type": "code",
   "execution_count": 200,
   "metadata": {},
   "outputs": [
    {
     "name": "stdout",
     "output_type": "stream",
     "text": [
      "1297936698925 140574830017246\n"
     ]
    }
   ],
   "source": [
    "p1 = 0\n",
    "p2 = 0\n",
    "\n",
    "with open(\"input.txt\", \"r\") as f:\n",
    "    lines = f.read()\n",
    "\n",
    "for line in lines.splitlines():\n",
    "    target_sum = int(line.split(\":\")[0])\n",
    "    l = tuple(map(int, line.split(\":\")[1].split()))\n",
    "\n",
    "    if find_solution(target_sum, 0, l):\n",
    "        p1 += target_sum\n",
    "        p2 += target_sum\n",
    "    else:\n",
    "        p2 += target_sum if find_solution(target_sum, 0, l, True) else 0\n",
    "\n",
    "print(p1, p2)"
   ]
  }
 ],
 "metadata": {
  "kernelspec": {
   "display_name": "Python 3",
   "language": "python",
   "name": "python3"
  },
  "language_info": {
   "codemirror_mode": {
    "name": "ipython",
    "version": 3
   },
   "file_extension": ".py",
   "mimetype": "text/x-python",
   "name": "python",
   "nbconvert_exporter": "python",
   "pygments_lexer": "ipython3",
   "version": "3.12.5"
  }
 },
 "nbformat": 4,
 "nbformat_minor": 2
}
