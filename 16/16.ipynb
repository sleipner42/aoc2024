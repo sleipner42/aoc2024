{
 "cells": [
  {
   "cell_type": "code",
   "execution_count": 44,
   "metadata": {},
   "outputs": [
    {
     "name": "stdout",
     "output_type": "stream",
     "text": [
      "133584\n"
     ]
    }
   ],
   "source": [
    "from collections import defaultdict\n",
    "import heapq as heap\n",
    "\n",
    "with open(\"input.txt\", \"r\") as f:\n",
    "    lines = f.read()\n",
    "\n",
    "walls = set()\n",
    "start = (0, 0)\n",
    "end = (0, 0)\n",
    "\n",
    "graph = set()\n",
    "\n",
    "for y, line in enumerate(lines.split(\"\\n\")):\n",
    "    for x, char in enumerate(line):\n",
    "        if char == \"#\":\n",
    "            walls.add((x, y))\n",
    "        elif char == \"S\":\n",
    "            start = (x, y)\n",
    "            graph.add((x, y))\n",
    "        elif char == \"E\":\n",
    "            end = (x, y)\n",
    "            graph.add((x, y))\n",
    "        else:\n",
    "            graph.add((x, y))\n",
    "\n",
    "\n",
    "directions = [(0, -1), (1, 0), (0, 1), (-1, 0)]\n",
    "costs = {(node[0], node[1], direction): float(\"inf\") for node in graph for direction in directions}\n",
    "\n",
    "costs[(start[0], start[1], directions[1])] = 0\n",
    "\n",
    "visited = set()\n",
    "pq = []\n",
    "heap.heappush(pq, (0, (start[0], start[1], directions[1])))\n",
    "\n",
    "prev_nodes = defaultdict(set)\n",
    "\n",
    "while pq:\n",
    "\n",
    "    _, node = heap.heappop(pq)\n",
    "    visited.add(node)\n",
    "\n",
    "    for direction in directions:\n",
    "\n",
    "        cost = 1\n",
    "        current_direction = node[2]\n",
    "\n",
    "        if current_direction == direction:\n",
    "            cost = 1\n",
    "        elif (-current_direction[0], -current_direction[1]) == direction:\n",
    "            continue\n",
    "        else:\n",
    "            cost = 1001\n",
    "\n",
    "        next_node = (\n",
    "            node[0] + direction[0],\n",
    "            node[1] + direction[1],\n",
    "            direction,\n",
    "        )\n",
    "\n",
    "        if next_node in visited:\n",
    "            continue\n",
    "\n",
    "        if (next_node[0], next_node[1]) in walls:\n",
    "            continue\n",
    "\n",
    "        newCost = costs[node] + cost\n",
    "\n",
    "        if costs[next_node] > newCost:\n",
    "\n",
    "            prev_nodes[next_node].clear()\n",
    "            prev_nodes[next_node].add(node)\n",
    "            \n",
    "            costs[next_node] = newCost\n",
    "            heap.heappush(pq, (newCost, next_node))\n",
    "            \n",
    "        elif costs[next_node] == newCost:\n",
    "            prev_nodes[next_node].add(node)\n",
    "\n",
    "\n",
    "min_dir = [costs[(end[0], end[1], dir)] for dir in directions]\n",
    "min_dir_index = min_dir.index(min(min_dir))\n",
    "\n",
    "print(min_dir[min_dir_index])"
   ]
  },
  {
   "cell_type": "code",
   "execution_count": 49,
   "metadata": {},
   "outputs": [
    {
     "data": {
      "text/plain": [
       "622"
      ]
     },
     "execution_count": 49,
     "metadata": {},
     "output_type": "execute_result"
    }
   ],
   "source": [
    "best_end_node = (end[0], end[1], directions[min_dir_index])\n",
    "\n",
    "prev_nodes[best_end_node]\n",
    "\n",
    "final_list = set()\n",
    "\n",
    "nodes = set()\n",
    "nodes.add(best_end_node)\n",
    "\n",
    "while len(nodes) > 0:\n",
    "    \n",
    "    node = nodes.pop()\n",
    "\n",
    "\n",
    "    final_list.add((node[0], node[1]))\n",
    "    nodes.update(prev_nodes[node])\n",
    "\n",
    "len(final_list)"
   ]
  }
 ],
 "metadata": {
  "kernelspec": {
   "display_name": "Python 3",
   "language": "python",
   "name": "python3"
  },
  "language_info": {
   "codemirror_mode": {
    "name": "ipython",
    "version": 3
   },
   "file_extension": ".py",
   "mimetype": "text/x-python",
   "name": "python",
   "nbconvert_exporter": "python",
   "pygments_lexer": "ipython3",
   "version": "3.10.13"
  }
 },
 "nbformat": 4,
 "nbformat_minor": 2
}
