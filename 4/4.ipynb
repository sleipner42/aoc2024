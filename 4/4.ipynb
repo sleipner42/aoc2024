{
 "cells": [
  {
   "cell_type": "code",
   "execution_count": 83,
   "metadata": {},
   "outputs": [],
   "source": [
    "import numpy as np\n",
    "import re"
   ]
  },
  {
   "cell_type": "code",
   "execution_count": 84,
   "metadata": {},
   "outputs": [],
   "source": [
    "with open(\"input.txt\", \"r\") as f:\n",
    "    lines = f.read().splitlines()\n",
    "    "
   ]
  },
  {
   "cell_type": "code",
   "execution_count": 93,
   "metadata": {},
   "outputs": [
    {
     "name": "stdout",
     "output_type": "stream",
     "text": [
      "2427\n"
     ]
    }
   ],
   "source": [
    "m = np.array([list(line) for line in lines])\n",
    "\n",
    "tot = 0\n",
    "pattern = re.compile(r\"XMAS\")\n",
    "\n",
    "def count_xmas(str):\n",
    "    c = 0\n",
    "    for a in re.finditer(pattern, str):\n",
    "        c += 1\n",
    "    return c\n",
    "\n",
    "for i in range(m.shape[0]):\n",
    "\n",
    "    str = \"\".join(m[i, :])\n",
    "    tot += count_xmas(str)\n",
    "    tot += count_xmas(str[::-1])\n",
    "\n",
    "    str = \"\".join(m.T[i, :])\n",
    "    tot += count_xmas(str)\n",
    "    tot += count_xmas(str[::-1])\n",
    "\n",
    "\n",
    "for i in range(-m.shape[0]+1, m.shape[1] - 1):\n",
    "\n",
    "    str = \"\".join(np.diagonal(m.T, offset=i))\n",
    "\n",
    "    tot += count_xmas(str)\n",
    "    tot += count_xmas(str[::-1])\n",
    "\n",
    "    str = \"\".join(np.diagonal(m[:, ::-1], offset=i))\n",
    "\n",
    "    tot += count_xmas(str)\n",
    "    tot += count_xmas(str[::-1])\n",
    "\n",
    "print(tot)\n"
   ]
  },
  {
   "cell_type": "code",
   "execution_count": 91,
   "metadata": {},
   "outputs": [
    {
     "name": "stdout",
     "output_type": "stream",
     "text": [
      "1900\n"
     ]
    }
   ],
   "source": [
    "def is_xmas(sub_m):\n",
    "\n",
    "    m = sub_m[0,0] == sub_m[2,0] == \"M\"\n",
    "    a = sub_m[1,1] == \"A\"\n",
    "    s = sub_m[0,2] == sub_m[2,2] == \"S\"\n",
    "\n",
    "    return 1 if (m and a and s) else 0\n",
    "\n",
    "tot = 0\n",
    "\n",
    "for i in range(m.shape[0] - 2):\n",
    "    for j in range(m.shape[1] - 2):\n",
    "        sub_m = m[i:i+3, j:j+3]\n",
    "        tot += is_xmas(sub_m) + is_xmas(np.rot90(sub_m)) + is_xmas(np.rot90(sub_m, 2)) + is_xmas(np.rot90(sub_m, 3))\n",
    "\n",
    "print(tot)"
   ]
  }
 ],
 "metadata": {
  "kernelspec": {
   "display_name": "Python 3",
   "language": "python",
   "name": "python3"
  },
  "language_info": {
   "codemirror_mode": {
    "name": "ipython",
    "version": 3
   },
   "file_extension": ".py",
   "mimetype": "text/x-python",
   "name": "python",
   "nbconvert_exporter": "python",
   "pygments_lexer": "ipython3",
   "version": "3.10.13"
  }
 },
 "nbformat": 4,
 "nbformat_minor": 2
}
